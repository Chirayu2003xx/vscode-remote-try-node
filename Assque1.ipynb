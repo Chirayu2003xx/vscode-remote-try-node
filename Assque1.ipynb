{
  "nbformat": 4,
  "nbformat_minor": 0,
  "metadata": {
    "colab": {
      "provenance": [],
      "authorship_tag": "ABX9TyMsrlUQASP0dNKE+VsI5Bt4",
      "include_colab_link": true
    },
    "kernelspec": {
      "name": "python3",
      "display_name": "Python 3"
    },
    "language_info": {
      "name": "python"
    }
  },
  "cells": [
    {
      "cell_type": "markdown",
      "metadata": {
        "id": "view-in-github",
        "colab_type": "text"
      },
      "source": [
        "<a href=\"https://colab.research.google.com/github/Chirayu2003xx/vscode-remote-try-node/blob/main/Assque1.ipynb\" target=\"_parent\"><img src=\"https://colab.research.google.com/assets/colab-badge.svg\" alt=\"Open In Colab\"/></a>"
      ]
    },
    {
      "cell_type": "code",
      "source": [
        "import pandas as pd\n",
        "file_path = 'my_data.csv'\n",
        "df = pd.read_csv(file_path)\n",
        "print(df.head())"
      ],
      "metadata": {
        "colab": {
          "base_uri": "https://localhost:8080/"
        },
        "id": "tHmLX6XXQV8m",
        "outputId": "6134554d-d7e1-4b01-b8c4-6b159057f69f"
      },
      "execution_count": 4,
      "outputs": [
        {
          "output_type": "stream",
          "name": "stdout",
          "text": [
            "    Name  Age       Location\n",
            "0   John   30       New York\n",
            "1  Alice   25    Los Angeles\n",
            "2    Bob   35        Chicago\n",
            "3    Eva   28  San Francisco\n"
          ]
        }
      ]
    },
    {
      "cell_type": "markdown",
      "source": [],
      "metadata": {
        "id": "uiiqnKc4ReCc"
      }
    },
    {
      "cell_type": "code",
      "source": [
        "import csv\n",
        "\n",
        "# Data to be saved in the CSV file\n",
        "data = [\n",
        "    ['Name', 'Age', 'Location'],\n",
        "    ['John', 30, 'New York'],\n",
        "    ['Alice', 25, 'Los Angeles'],\n",
        "    ['Bob', 35, 'Chicago'],\n",
        "    ['Eva', 28, 'San Francisco']\n",
        "]\n",
        "\n",
        "\n",
        "file_path = 'my_data.csv'\n",
        "\n",
        "with open(file_path, 'w', newline='') as csvfile:\n",
        "    csvwriter = csv.writer(csvfile)\n",
        "    csvwriter.writerows(data)\n",
        "\n"
      ],
      "metadata": {
        "id": "l02jL27OQIc2"
      },
      "execution_count": 2,
      "outputs": []
    }
  ]
}